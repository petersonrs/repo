{
  "nbformat": 4,
  "nbformat_minor": 0,
  "metadata": {
    "colab": {
      "name": "apinews.ipynb",
      "provenance": [],
      "collapsed_sections": []
    },
    "kernelspec": {
      "name": "python3",
      "display_name": "Python 3"
    },
    "language_info": {
      "name": "python"
    }
  },
  "cells": [
    {
      "cell_type": "code",
      "execution_count": 1,
      "metadata": {
        "colab": {
          "base_uri": "https://localhost:8080/"
        },
        "id": "ABfdwD2P8dad",
        "outputId": "0eeaf7cf-116c-4bd8-96dd-bd6c1879e7b2"
      },
      "outputs": [
        {
          "output_type": "stream",
          "name": "stdout",
          "text": [
            "Looking in indexes: https://pypi.org/simple, https://us-python.pkg.dev/colab-wheels/public/simple/\n",
            "Collecting newsapi-python\n",
            "  Downloading newsapi_python-0.2.6-py2.py3-none-any.whl (7.9 kB)\n",
            "Requirement already satisfied: requests<3.0.0 in /usr/local/lib/python3.7/dist-packages (from newsapi-python) (2.23.0)\n",
            "Requirement already satisfied: certifi>=2017.4.17 in /usr/local/lib/python3.7/dist-packages (from requests<3.0.0->newsapi-python) (2022.5.18.1)\n",
            "Requirement already satisfied: urllib3!=1.25.0,!=1.25.1,<1.26,>=1.21.1 in /usr/local/lib/python3.7/dist-packages (from requests<3.0.0->newsapi-python) (1.24.3)\n",
            "Requirement already satisfied: chardet<4,>=3.0.2 in /usr/local/lib/python3.7/dist-packages (from requests<3.0.0->newsapi-python) (3.0.4)\n",
            "Requirement already satisfied: idna<3,>=2.5 in /usr/local/lib/python3.7/dist-packages (from requests<3.0.0->newsapi-python) (2.10)\n",
            "Installing collected packages: newsapi-python\n",
            "Successfully installed newsapi-python-0.2.6\n"
          ]
        }
      ],
      "source": [
        "!pip install newsapi-python"
      ]
    },
    {
      "cell_type": "code",
      "source": [
        "from newsapi import NewsApiClient"
      ],
      "metadata": {
        "id": "fNtlzPHKD6EP"
      },
      "execution_count": 2,
      "outputs": []
    },
    {
      "cell_type": "markdown",
      "source": [
        "Autenticação"
      ],
      "metadata": {
        "id": "OP--bLk5h5VQ"
      }
    },
    {
      "cell_type": "code",
      "source": [
        "api = NewsApiClient(api_key='')"
      ],
      "metadata": {
        "id": "-wkQEiGHD8O0"
      },
      "execution_count": 10,
      "outputs": []
    },
    {
      "cell_type": "markdown",
      "source": [
        "Buscando notícias recentes em Português"
      ],
      "metadata": {
        "id": "szClW0H0EJnG"
      }
    },
    {
      "cell_type": "code",
      "source": [
        "api.get_top_headlines(language='pt')"
      ],
      "metadata": {
        "colab": {
          "base_uri": "https://localhost:8080/"
        },
        "id": "lQjzbPhsEHTV",
        "outputId": "e29e0bfd-399c-4e91-ff4e-b57928c358c7"
      },
      "execution_count": 11,
      "outputs": [
        {
          "output_type": "execute_result",
          "data": {
            "text/plain": [
              "{'articles': [{'author': 'Joel Pinto',\n",
              "   'content': 'O titulo deste artigo não deixa muito espaço para duvidas, e este artigo é dedicado à analise do excelente Elitebook 840 Aero G8, um novo ultrabook da HP. A HP conseguiu fazer um dispositivo realment… [+5586 chars]',\n",
              "   'description': 'O titulo deste artigo não deixa muito espaço para duvidas, e este artigo é dedicado à analise do excelente Elitebook 840 Aero G8, um',\n",
              "   'publishedAt': '2022-06-05T20:30:00Z',\n",
              "   'source': {'id': None, 'name': 'Noticiasetecnologia.com'},\n",
              "   'title': 'Análise HP EliteBook 840 Aero G8 - Noticias e Tecnologia',\n",
              "   'url': 'https://noticiasetecnologia.com/analise-hp-elitebook-840-aero-g8/',\n",
              "   'urlToImage': 'https://noticiasetecnologia.com/wp-content/uploads/2022/06/EliteBook-840-Aero-G8-7.jpg'},\n",
              "  {'author': 'Hereward Berrye',\n",
              "   'content': 'O desenvolvimento de conteúdo de realidade virtual e ferramentas de software da Apple é fundamental para criar experiências que dão um propósito futuro aos fones de ouvido. Seu mais recente grande pr… [+2723 chars]',\n",
              "   'description': 'O desenvolvimento de conteúdo de realidade virtual e ferramentas de software da Apple é fundamental para criar experiências que dão um propósito futuro',\n",
              "   'publishedAt': '2022-06-05T20:29:49Z',\n",
              "   'source': {'id': None, 'name': 'Oribatejo.pt'},\n",
              "   'title': 'O headset VR da Apple é a próxima grande novidade - O Ribatejo | jornal regional online',\n",
              "   'url': 'https://www.oribatejo.pt/o-headset-vr-da-apple-e-a-proxima-grande-novidade/',\n",
              "   'urlToImage': 'https://static01.nyt.com/images/2022/06/04/business/04applevr1/merlin_207983133_56833e4b-b3ae-4c65-954a-0d733176f437-facebookJumbo.jpg'},\n",
              "  {'author': 'Redação',\n",
              "   'content': 'O Fortaleza vai enfrentando o Flamengo \\xa0pela 9ª rodada da Série A do Brasileiro de 2022. O confronto ocorre no estádio Maracanã, no Rio de Janeiro, e tem peso de decisão para o time cearense, em situ… [+3131 chars]',\n",
              "   'description': 'O Fortaleza vai enfrentando o Flamengo \\xa0pela 9ª rodada da Série A do Brasileiro de 2022. O confronto ocorre no estádio Maracanã, no Rio de Janeiro, e tem peso de decisão para o time cearense, em situação muito preocupante na',\n",
              "   'publishedAt': '2022-06-05T20:24:09Z',\n",
              "   'source': {'id': None, 'name': 'Verdesmares.com.br'},\n",
              "   'title': 'Flamengo x Fortaleza ao vivo: acompanhe a partida em tempo real - Diário do Nordeste',\n",
              "   'url': 'https://diariodonordeste.verdesmares.com.br/jogada/flamengo-x-fortaleza-confira-horario-onde-assistir-palpites-e-provaveis-escalacoes-1.3239469',\n",
              "   'urlToImage': 'https://diariodonordeste.verdesmares.com.br/image/contentid/policy:1.3240058:1654460041/image.jpg?h=630&q=0.6&w=1200&$p$h$q$w=f76cc5e'},\n",
              "  {'author': None,\n",
              "   'content': 'O ministro Humberto Martins, presidente do STJ, suspendeu neste domingo (5) a decisão do Tribunal de Justiça da Bahia que havia liberado a realização de shows durante a Festa da Banana, em Teolândia.… [+664 chars]',\n",
              "   'description': 'Cantor bolsonarista receberia R$ 704 mil por apresentação no evento, em Teolândia',\n",
              "   'publishedAt': '2022-06-05T19:52:26Z',\n",
              "   'source': {'id': None, 'name': 'Uol.com.br'},\n",
              "   'title': 'STJ suspende show de Gusttavo Lima na Festa da Banana - O Antagonista',\n",
              "   'url': 'https://oantagonista.uol.com.br/brasil/stj-suspende-decisao-que-liberava-show-de-gusttavo-lima/',\n",
              "   'urlToImage': 'https://cdn.oantagonista.com/uploads/2022/05/Gusttavo-Lima-2-1024x576.jpg'},\n",
              "  {'author': 'Luiz Henrique Oliveira',\n",
              "   'content': 'Rubens Caribé, ator que ficou conhecido por trabalhos na televisão e no teatro nos anos 90, morreu neste domingo (05). A informação foi confirmada oficialmente pela atriz e diretora Mika Lins, amiga … [+1499 chars]',\n",
              "   'description': 'Rubens Caribé ficou famoso ao se tornar galã na TV Globo com seu papel em \"Fera Ferida\", nos anos 90; ele morreu neste domingo (05)',\n",
              "   'publishedAt': '2022-06-05T19:44:44Z',\n",
              "   'source': {'id': None, 'name': 'Bolavip'},\n",
              "   'title': 'Rubens Caribé, ator de \"Fera Ferida\", morre aos 56 anos, vítima de câncer - Bolavip Brasil',\n",
              "   'url': 'https://br.bolavip.com/entretenimento/Rubens-Caribe-ator-de-Fera-Ferida-morre-aos-56-anos-vitima-de-cancer-20220605-0060.html',\n",
              "   'urlToImage': 'https://bolavip.com/__export/1654457316135/sites/bolavip/img/2022/06/05/rubens_caribe.jpg_242310155.jpg'},\n",
              "  {'author': None,\n",
              "   'content': 'Um general russo foi morto no leste da Ucrânia, informou um jornalista da mídia estatal da Rússia neste domingo (5), aumentando a série de baixas militares de alto escalão sofridas por Moscou. A repo… [+1224 chars]',\n",
              "   'description': 'Rússia classifica as mortes militares como segredos de Estado mesmo em tempos de paz e não atualiza seus números oficiais de baixas na Ucrânia desde 25 de março.',\n",
              "   'publishedAt': '2022-06-05T19:36:33Z',\n",
              "   'source': {'id': 'globo', 'name': 'Globo'},\n",
              "   'title': 'General russo Roman Kutuzov morre no leste da Ucrânia - Globo',\n",
              "   'url': 'https://g1.globo.com/mundo/ucrania-russia/noticia/2022/06/05/general-russo-roman-kutuzov-morre-no-leste-da-ucrania.ghtml',\n",
              "   'urlToImage': 'https://s2.glbimg.com/F8o50bF1mcHS8dVQB-5gj5PP3fs=/1200x/smart/filters:cover():strip_icc()/i.s3.glbimg.com/v1/AUTH_59edd422c0c84a879bd37670ae4f538a/internal_photos/bs/2022/Z/m/GBduzqT5e3XLnIomuHgA/2022-05-26t215724z-1578293926-rc22fu9ifwaz-rtrmadp-3-ukraine-crisis-luhansk-popasna.jpg'},\n",
              "  {'author': 'Joel Pinto',\n",
              "   'content': 'Desde que lançou o Minecraft Bedrock Edition em 2017, a Majong, que pertence à Microsoft, oferece duas versões do mesmo jogo para o PC, que alem dessa já disponibilizava a versão Java original. Ou se… [+1427 chars]',\n",
              "   'description': 'Desde que lançou o Minecraft Bedrock Edition em 2017, a Majong, que pertence à Microsoft, oferece duas versões do mesmo jogo para o',\n",
              "   'publishedAt': '2022-06-05T19:30:00Z',\n",
              "   'source': {'id': None, 'name': 'Noticiasetecnologia.com'},\n",
              "   'title': 'Minecraft: Edições Java e Bedrock fundem-se numa só - Noticias e Tecnologia',\n",
              "   'url': 'https://noticiasetecnologia.com/minecraft-java-bedrock-fundem-se/',\n",
              "   'urlToImage': 'https://noticiasetecnologia.com/wp-content/uploads/2022/06/Minecraft-Java-Bedrock-Edition.jpg'},\n",
              "  {'author': 'Record',\n",
              "   'content': 'A seleção portuguesa de futebol goleou este domingo a sua congénere da Suíça por 4-0, em encontro da segunda jornada do Grupo A2 da Liga das Nações em futebol, disputado no Estádio José Alvalade, em … [+1713 chars]',\n",
              "   'description': 'Equipa das quinas marcou quatro golos no segundo jogo da fase de grupos da Liga das Nações.',\n",
              "   'publishedAt': '2022-06-05T19:21:58Z',\n",
              "   'source': {'id': None, 'name': 'Cmjornal.pt'},\n",
              "   'title': 'Portugal 1-0 Suíça - Correio da Manhã',\n",
              "   'url': 'https://www.cmjornal.pt/desporto/futebol/detalhe/o-onze-de-portugal-para-o-jogo-com-a-suica-cr7-de-volta-a-titularidade',\n",
              "   'urlToImage': 'https://cdn.cmjornal.pt/images/2022-06/img_1200x676$2022_06_05_20_38_31_1156592.jpg'},\n",
              "  {'author': None,\n",
              "   'content': None,\n",
              "   'description': 'Assista ao programa CNN Tarde deste domingo, 5 de junho de 2022. #CNNBrasilInscreva-se no canal da CNN Brasil no YouTube: https://www.cnnbr.tv/2ybMGDH ACOMPA...',\n",
              "   'publishedAt': '2022-06-05T18:54:29Z',\n",
              "   'source': {'id': None, 'name': 'YouTube'},\n",
              "   'title': 'CNN DOMINGO TARDE - 05/06/2022 - CNN Brasil',\n",
              "   'url': 'https://www.youtube.com/watch?v=YiU6KW1j5VQ',\n",
              "   'urlToImage': 'https://i.ytimg.com/vi/YiU6KW1j5VQ/hqdefault.jpg'},\n",
              "  {'author': None,\n",
              "   'content': 'Em conversa com Rodrigo Faraco, comentarista da NSC TV, o empresário Eduardo Uram, que trabalha na administração da carreira de Barroca, confirmou o contato do Gigante da Colina. No entanto, garantiu… [+552 chars]',\n",
              "   'description': 'Apesar do interesse do clube carioca, empresário do técnico garante continuidade em SC',\n",
              "   'publishedAt': '2022-06-05T18:43:54Z',\n",
              "   'source': {'id': 'globo', 'name': 'Globo'},\n",
              "   'title': 'Após saída de Zé Ricardo, Vasco sonda Eduardo Barroca, do Avaí - Globo',\n",
              "   'url': 'https://ge.globo.com/sc/futebol/noticia/2022/06/05/apos-saida-de-ze-ricardo-vasco-sonda-eduardo-barroca-do-avai-para-o-cargo.ghtml',\n",
              "   'urlToImage': 'https://s2.glbimg.com/IE6G-2Gial-cGSTrX1gnlPERKjc=/1200x/smart/filters:cover():strip_icc()/i.s3.glbimg.com/v1/AUTH_bc8228b6673f488aa253bbcb03c80ec5/internal_photos/bs/2022/y/d/Zg1UnsSYam9T7gMYn0AQ/52087013864-84e6837f91-k.jpg'},\n",
              "  {'author': 'Lusa',\n",
              "   'content': 'Um total de 780 casos de varíola dos macacos (monkeypox) confirmados em laboratório foram registados em 27 países não endémicos, anunciou hoje a Organização Mundial da Saúde (OMS), reiterando que o r… [+2203 chars]',\n",
              "   'description': 'Os países não endémicos que relataram mais casos foram o Reino Unido (207), a Espanha (156), Portugal (138), Canadá (58) e Alemanha (57).',\n",
              "   'publishedAt': '2022-06-05T18:42:05Z',\n",
              "   'source': {'id': None, 'name': 'Publico.pt'},\n",
              "   'title': 'Varíola dos macacos: OMS assinala 780 casos em 27 países não endémicos, incluindo Portugal - Público',\n",
              "   'url': 'https://www.publico.pt/2022/06/05/sociedade/noticia/variola-macacos-oms-assinala-780-casos-27-paises-nao-endemicos-incluindo-portugal-2009045',\n",
              "   'urlToImage': 'https://imagens.publico.pt/imagens.aspx/1703240?tp=UH&db=IMAGENS&type=JPG&share=1&o=BarraFacebook_Publico.png'},\n",
              "  {'author': None,\n",
              "   'content': None,\n",
              "   'description': 'Jogão na segunda rodada da Nations League. Portugal e Suíça se enfrentam na segunda rodada. Quem vence?Você torce pra um dos clubes e confia no seu time? Ace...',\n",
              "   'publishedAt': '2022-06-05T18:30:19Z',\n",
              "   'source': {'id': None, 'name': 'YouTube'},\n",
              "   'title': 'PORTUGAL X SUÍÇA (NARRAÇÃO AO VIVO) | NATIONS LEAGUE 2022 - TNT Sports Brasil',\n",
              "   'url': 'https://www.youtube.com/watch?v=Ai_u4NJXrrg',\n",
              "   'urlToImage': 'https://i.ytimg.com/vi/Ai_u4NJXrrg/maxresdefault.jpg'},\n",
              "  {'author': None,\n",
              "   'content': 'Além das 128 mortes provocadas por quedas de barreira e enchentes, a tragédia do do fim de maio deixou 61.596 desalojados e 9.631 desabrigados, em Pernambuco. São mais de 71 mil pessoas que ainda est… [+1624 chars]',\n",
              "   'description': 'Balanço foi divulgado neste domingo (5) pela Defesa Civil do estado, oito dias após temporais. Subiu de 34 para 37 número de cidades que decretaram situação de emergência. Ao todo, foram 128 mortes.',\n",
              "   'publishedAt': '2022-06-05T18:23:09Z',\n",
              "   'source': {'id': 'globo', 'name': 'Globo'},\n",
              "   'title': 'Mais de 71 mil pessoas ficam desalojadas ou desabrigadas após tragédia das chuvas em PE - Globo',\n",
              "   'url': 'https://g1.globo.com/pe/pernambuco/noticia/2022/06/05/mais-de-71-mil-pessoas-ficam-desalojadas-ou-desabrigadas-apos-tragedia-das-chuvas-em-pe.ghtml',\n",
              "   'urlToImage': 'https://s2.glbimg.com/dreRtI1D6YxYJHgvnG5GlSUCWb4=/1200x/smart/filters:cover():strip_icc()/i.s3.glbimg.com/v1/AUTH_59edd422c0c84a879bd37670ae4f538a/internal_photos/bs/2022/w/6/HsnnAsQnqq9Xi7y12r0Q/2022-06-01t204055z-1754250267-rc21ju9of1jw-rtrmadp-3-brazil-rains.jpg'},\n",
              "  {'author': 'Lucas Carvalho',\n",
              "   'content': 'Cientistas da agência espacial norte-americana Nasa estão se preparando para usar o potente telescópio James Webb para explorar um planeta relativamente próximo da Terra e com características semelha… [+5570 chars]',\n",
              "   'description': 'Cientistas da agência espacial norte-americana Nasa estão se preparando para usar o potente telescópio James Webb para explorar um planeta relativamente próximo da Terra e com características semelhantes. Só tem uma grande diferença: é possível que as chu',\n",
              "   'publishedAt': '2022-06-05T18:15:22Z',\n",
              "   'source': {'id': None, 'name': 'Uol.com.br'},\n",
              "   'title': \"Parece a Terra, mas chove lava: planeta 'vizinho' será explorado pela Nasa - Tilt\",\n",
              "   'url': 'https://www.uol.com.br/tilt/noticias/redacao/2022/06/05/parece-a-terra-mas-chove-lava-planeta-vizinho-sera-explorado-pela-nasa.htm',\n",
              "   'urlToImage': 'https://conteudo.imguol.com.br/c/noticias/da/2022/06/05/representacao-artistica-do-55-cancri-e-exoplaneta-onde-chove-lava-segundo-hipotese-estudada-por-cientistas-1654451883981_v2_615x300.jpg'},\n",
              "  {'author': 'Fernando Pires',\n",
              "   'content': 'Hoje\\xa0às\\xa019:09\\r\\nEra no Bar Central, em pleno centro da cidade de Mirandela, que Amílcar Teixeira, pai de Edmar, antigo concorrente do \"Big Brother\", vendia parte da droga que adquiria na zona do Porto… [+639 chars]',\n",
              "   'description': 'Era no Bar Central, em pleno centro da cidade de Mirandela, que Amílcar Teixeira, pai de Edmar, antigo concorrente do \"Big Brother\", vendia parte da droga que adquiria na zona do Porto, ao seu amigo Vítor Soares, que conheceu nas galas do \"reality show\" da TV…',\n",
              "   'publishedAt': '2022-06-05T18:09:00Z',\n",
              "   'source': {'id': None, 'name': 'Www.jn.pt'},\n",
              "   'title': 'Pai de concorrente do ″Big Brother″ suspeito de vender droga no café - Jornal de Notícias',\n",
              "   'url': 'https://www.jn.pt/justica/pai-de-concorrente-do-big-brother-suspeito-de-vender-droga-no-cafe-14918095.html',\n",
              "   'urlToImage': 'https://static.globalnoticias.pt/jn/image.jpg?brand=JN&type=generate&guid=5ea8f20a-b66c-4a89-9adc-4e06250ff5b4&w=800&h=420&watermark=true&t=20220605190900'},\n",
              "  {'author': 'O Tempo',\n",
              "   'content': 'Pré-candidato ao governo de Minas, o ex-prefeito de Belo Horizonte, Alexandre Kalil (PSD), discutiu com um repórter durante entrevista a um canal local da cidade de Capelinha, no Vale do Jequitinhonh… [+2533 chars]',\n",
              "   'description': 'O pré-candidato ao governo de Minas subiu o tom ao ser questionado sobre dívidas de sua empresa',\n",
              "   'publishedAt': '2022-06-05T17:26:25Z',\n",
              "   'source': {'id': None, 'name': 'Otempo.com.br'},\n",
              "   'title': \"'Te pego e te jogo pela janela', diz Kalil a entrevistador em Capelinha - O Tempo\",\n",
              "   'url': 'https://www.otempo.com.br/politica/te-pego-e-te-jogo-pela-janela-diz-kalil-a-entrevistador-em-capelinha-1.2679274',\n",
              "   'urlToImage': 'https://www.otempo.com.br/image/contentid/policy:1.2679275:1654449683/WhatsApp%20Image%202022-06-05%20at%2014.17.29.jpeg'},\n",
              "  {'author': 'Redação',\n",
              "   'content': 'O Benfica conquistou este domingo a Taça de Portugal de andebol feminino, ao vencer na final o Colégio Gaia por 38-31, em Santo Tirso.\\r\\nA equipa encarnada, que há 30 anos não conquistava esta prova (… [+129 chars]',\n",
              "   'description': 'A BOLA, toda a informação desportiva. Acompanhe todas as notícias do seu clube ou modalidade preferida, para onde quer que vá.',\n",
              "   'publishedAt': '2022-06-05T17:16:11Z',\n",
              "   'source': {'id': None, 'name': 'Abola.pt'},\n",
              "   'title': 'Dobradinha: Benfica conquista Taça de Portugal feminina (30 anos depois!) - A Bola',\n",
              "   'url': 'https://www.abola.pt/nnh/2022-06-05/andebol-dobradinha-benfica-conquista-taca-de-portugal-feminina-30-anos-depois/944232',\n",
              "   'urlToImage': 'https://www.abola.pt//img/fotos/ABOLA2015/NNH/2022/TacaPortugalandebolfemininaCaptura.jpg'},\n",
              "  {'author': None,\n",
              "   'content': None,\n",
              "   'description': 'Jogo Palmeiras x Atlético-MG ao vivo hoje: assista à transmissão com imagem dos jornalistas da Jovem Pan Esportes. Narração de Nilson Cesar, comentários de M...',\n",
              "   'publishedAt': '2022-06-05T16:59:43Z',\n",
              "   'source': {'id': None, 'name': 'YouTube'},\n",
              "   'title': 'Palmeiras x Atlético-MG - AO VIVO - 05/06/2022 - Brasileirão - Jovem Pan Esportes',\n",
              "   'url': 'https://www.youtube.com/watch?v=q3u1b6JnFoY',\n",
              "   'urlToImage': 'https://i.ytimg.com/vi/q3u1b6JnFoY/maxresdefault_live.jpg'},\n",
              "  {'author': None,\n",
              "   'content': 'O ex-deputado Márcio Macedo, do PT, protocolou um mandado de segurança no STF contra a decisão do ministro Kassio Nunes Marques (foto) que devolveu o mandato ao bolsonarista Valdevan Noventa.\\xa0\\r\\nMaced… [+904 chars]',\n",
              "   'description': 'Márcio Macedo, do PT, foi afastado na última sexta após decisão do ministro do Supremo de restituir o mandato de Valdevan Noventa',\n",
              "   'publishedAt': '2022-06-05T16:57:57Z',\n",
              "   'source': {'id': None, 'name': 'Uol.com.br'},\n",
              "   'title': 'Suplente de deputado bolsonarista recorre ao STF após decisão de Nunes Marques - O Antagonista',\n",
              "   'url': 'https://oantagonista.uol.com.br/brasil/suplente-de-deputado-bolsonarista-recorre-ao-stf-apos-decisao-de-nunes-marques/',\n",
              "   'urlToImage': 'https://cdn.oantagonista.com/uploads/2022/03/51930963840_3239768281_k-1024x675.jpg'},\n",
              "  {'author': 'Davi Nogueira',\n",
              "   'content': 'Julio Andrade (AFP/Getty Images)\\r\\nEm entrevista ao F5, site de entretenimento da Folha de S. Paulo, o ator Júlio Andrade, que vai interpretar o sociólogo Herbert de Souza na série do Globoplay ‘Sob P… [+807 chars]',\n",
              "   'description': 'Em entrevista ao F5, site de entretenimento da Folha de S. Paulo, o ator Júlio Andrade, que vai interpretar o sociólogo Herbert de Souza na série do Globoplay ‘Sob Pressão’, falou sobre o papel e criticou os artistas da emissora que ainda apoiam o presidente …',\n",
              "   'publishedAt': '2022-06-05T16:57:48Z',\n",
              "   'source': {'id': None, 'name': 'Diariodocentrodomundo.com.br'},\n",
              "   'title': '“Essas pessoas não me interessam”, diz ator Júlio Andrade sobre bolsonaristas da Globo - Diário do Centro do Mundo',\n",
              "   'url': 'https://www.diariodocentrodomundo.com.br/essencial/essas-pessoas-nao-me-interessam-diz-ator-julio-andrade-sobre-bolsonaristas-da-globo/',\n",
              "   'urlToImage': 'https://www.diariodocentrodomundo.com.br/wp-content/uploads/2022/06/mv5bodq1ntm2ndc2n15bml5banbnxkftztgwotgznjiyndm-_v1_.jpg'}],\n",
              " 'status': 'ok',\n",
              " 'totalResults': 66}"
            ]
          },
          "metadata": {},
          "execution_count": 11
        }
      ]
    },
    {
      "cell_type": "markdown",
      "source": [
        "Buscando por assunto em um período determinado"
      ],
      "metadata": {
        "id": "XeKjrk6ZEdSl"
      }
    },
    {
      "cell_type": "code",
      "source": [
        "#não esqueça que o intervalo deve ser 30 dias.\n",
        "dados = api.get_everything(q='covid, brasil', from_param='2022-05-05', to='2022-06-03')"
      ],
      "metadata": {
        "id": "fEBwOHkpEe9H"
      },
      "execution_count": 20,
      "outputs": []
    },
    {
      "cell_type": "markdown",
      "source": [
        "Total de resultados"
      ],
      "metadata": {
        "id": "_2aXMQuCifKP"
      }
    },
    {
      "cell_type": "code",
      "source": [
        "dados['totalResults']"
      ],
      "metadata": {
        "colab": {
          "base_uri": "https://localhost:8080/"
        },
        "id": "DCrcnJn5KZI-",
        "outputId": "f37dc198-30c5-491b-be8f-e621779efb20"
      },
      "execution_count": 16,
      "outputs": [
        {
          "output_type": "execute_result",
          "data": {
            "text/plain": [
              "3900"
            ]
          },
          "metadata": {},
          "execution_count": 16
        }
      ]
    },
    {
      "cell_type": "code",
      "source": [
        "type(dados)"
      ],
      "metadata": {
        "colab": {
          "base_uri": "https://localhost:8080/"
        },
        "id": "r1HFWMmBijPb",
        "outputId": "1f6eeabe-a2b6-47fd-cb87-2e83f54b3b4c"
      },
      "execution_count": 17,
      "outputs": [
        {
          "output_type": "execute_result",
          "data": {
            "text/plain": [
              "dict"
            ]
          },
          "metadata": {},
          "execution_count": 17
        }
      ]
    },
    {
      "cell_type": "code",
      "source": [
        "dados"
      ],
      "metadata": {
        "colab": {
          "base_uri": "https://localhost:8080/"
        },
        "id": "EtkEXS2eLs5d",
        "outputId": "61d50be8-8405-4f17-c329-b314e958deb2"
      },
      "execution_count": 18,
      "outputs": [
        {
          "output_type": "execute_result",
          "data": {
            "text/plain": [
              "{'articles': [{'author': 'Tom Phillips in São Paulo',\n",
              "   'content': 'A mesmerised hush fell over the crowd as João Camarero took to the stage with his seven-string guitar and plucked the opening notes of a national anthem that has become a symbol of the political stru… [+5053 chars]',\n",
              "   'description': 'Brazilian supporters hope to overturn far-right leader’s ‘reckless and criminal’ ruleA mesmerised hush fell over the crowd as João Camarero took to the stage with his seven-string guitar and plucked the opening notes of a national anthem that has become a sym…',\n",
              "   'publishedAt': '2022-05-08T14:45:22Z',\n",
              "   'source': {'id': None, 'name': 'The Guardian'},\n",
              "   'title': '‘He’s the only way’: how Lula allies hope he will end Bolsonaro era',\n",
              "   'url': 'https://amp.theguardian.com/world/2022/may/08/how-lula-allies-hope-he-will-end-bolsonaro-era',\n",
              "   'urlToImage': 'https://i.guim.co.uk/img/media/0824140016437bcc93f97d0e461b3ed8540caa39/0_293_6352_3811/master/6352.jpg?width=1200&height=630&quality=85&auto=format&fit=crop&overlay-align=bottom%2Cleft&overlay-width=100p&overlay-base64=L2ltZy9zdGF0aWMvb3ZlcmxheXMvdGctZGVmYXVsdC5wbmc&enable=upscale&s=6a0d4563079c3d69ab1473820f53939e'},\n",
              "  {'author': 'DER SPIEGEL',\n",
              "   'content': 'In einem Luxushotel in Porto Feliz nahe São Paulo hat sich der US-Milliardär Elon Musk am Vormittag mit Jair Bolsonaro getroffen. Der rechtspopulistische Präsident Brasiliens bezeichnete die geplante… [+4304 chars]',\n",
              "   'description': 'Erst spricht sich Elon Musk für die US-Republikaner aus, nun reist er zum Rechtspopulisten Jair Bolsonaro. Der freut sich über den Besuch des Tech-Unternehmers – nicht nur, weil dieser Internet für den Amazonas plant.',\n",
              "   'publishedAt': '2022-05-20T18:27:15Z',\n",
              "   'source': {'id': 'spiegel-online', 'name': 'Spiegel Online'},\n",
              "   'title': 'Brasilien: Jair Bolsonaro lobt Elon Musk für Bekenntnis zu Meinungsfreiheit auf Twitter',\n",
              "   'url': 'https://www.spiegel.de/wirtschaft/unternehmen/brasilien-jair-bolsonaro-lobt-elon-musk-fuer-bekenntnis-zu-meinungsfreiheit-auf-twitter-a-b97de684-c091-43f6-ab5f-995357d71440',\n",
              "   'urlToImage': 'https://cdn.prod.www.spiegel.de/images/47510bae-535e-4919-b5eb-c6d14b656e27_w1280_r1.77_fpx45.98_fpy44.98.jpg'},\n",
              "  {'author': 'Matheus Barros',\n",
              "   'content': 'O Brasil teve 103 mortes por Covid-19 nas últimas 24 horas, de acordo com números atualizados pelo Conselho Nacional de Secretários de Saúde (Conass) e pelo Ministério da Saúde nesta quarta-feira (18… [+1633 chars]',\n",
              "   'description': 'O Brasil teve 103 mortes por Covid-19 nas últimas 24 horas, de acordo com números atualizados pelo Conselho Nacional de Secretários de Saúde (Conass) e pelo Ministério da Saúde nesta quarta-feira (18).\\xa0O país também registrou cerca de 13,5 mil casos da doença…',\n",
              "   'publishedAt': '2022-05-18T21:03:02Z',\n",
              "   'source': {'id': None, 'name': 'Olhardigital.com.br'},\n",
              "   'title': 'Brasil registra 103 mortes por Covid-19 e mais de 13 mil casos nas últimas 24 horas',\n",
              "   'url': 'https://olhardigital.com.br/2022/05/18/coronavirus/brasil-registra-103-mortes-por-covid-19-e-mais-de-13-mil-casos-nas-ultimas-24-horas/',\n",
              "   'urlToImage': 'https://img.olhardigital.com.br/wp-content/uploads/2022/02/Covid-19.png'},\n",
              "  {'author': 'Matheus Barros',\n",
              "   'content': 'O Brasil teve 114 mortes por Covid-19 nas últimas 24 horas, de acordo com números atualizados pelo Conselho Nacional de Secretários de Saúde (Conass) e pelo Ministério da Saúde nesta quinta-feira (19… [+1631 chars]',\n",
              "   'description': 'O Brasil teve 114 mortes por Covid-19 nas últimas 24 horas, de acordo com números atualizados pelo Conselho Nacional de Secretários de Saúde (Conass) e pelo Ministério da Saúde nesta quinta-feira (19).\\xa0O país também registrou cerca de 10 mil casos da doença c…',\n",
              "   'publishedAt': '2022-05-19T21:02:33Z',\n",
              "   'source': {'id': None, 'name': 'Olhardigital.com.br'},\n",
              "   'title': 'Brasil registra 114 mortes por Covid-19 e mais de 10 mil casos nas últimas 24 horas',\n",
              "   'url': 'https://olhardigital.com.br/2022/05/19/coronavirus/brasil-registra-114-mortes-por-covid-19-e-mais-de-10-mil-casos-nas-ultimas-24-horas/',\n",
              "   'urlToImage': 'https://img.olhardigital.com.br/wp-content/uploads/2021/04/shutterstock_1816189349.jpg'},\n",
              "  {'author': 'Edson Kaique Lima',\n",
              "   'content': 'A Fundação Oswaldo Cruz (Fiocruz) emitiu um alerta sobre a estagnação da cobertura vacinal contra a Covid-19 no Brasil. A entidade também alertou para a desaceleração do aumento da curva de cobertura… [+1998 chars]',\n",
              "   'description': 'A Fundação Oswaldo Cruz (Fiocruz) emitiu um alerta sobre a estagnação da cobertura vacinal contra a Covid-19 no Brasil. A entidade também alertou para a desaceleração do aumento da curva de cobertura para a terceira dose entre adultos em todo o país. O alerta…',\n",
              "   'publishedAt': '2022-05-20T08:17:35Z',\n",
              "   'source': {'id': None, 'name': 'Olhardigital.com.br'},\n",
              "   'title': 'Fiocruz alerta para estagnação da cobertura vacinal no Brasil',\n",
              "   'url': 'https://olhardigital.com.br/2022/05/20/alem-da-infra/fiocruz-alerta-para-estagnacao-da-cobertura-vacinal-no-brasil/',\n",
              "   'urlToImage': 'https://olhardigital.com.br/wp-content/uploads/2022/04/vacinacao-gripe-1024x613.jpg'},\n",
              "  {'author': 'Luciana Penante',\n",
              "   'content': 'Desde 17 de fevereiro de 2022 a Agência Nacional de Vigilância Sanitária (Anvisa) liberou o uso de autotestes para\\xa0covid-19 no Brasil, mas ainda há dúvidas por parte da população quanto ao seu uso e … [+1322 chars]',\n",
              "   'description': 'Desde 17 de fevereiro de 2022 a Agência Nacional de Vigilância Sanitária (Anvisa) liberou o uso de autotestes para\\xa0covid-19 no Brasil, mas ainda há dúvidas por parte da população quanto ao seu uso e ao que deve ser feito em caso de teste com resultado positiv…',\n",
              "   'publishedAt': '2022-06-01T14:30:00Z',\n",
              "   'source': {'id': None, 'name': 'Tecmundo.com.br'},\n",
              "   'title': 'O que fazer se o autoteste de covid-19 der resultado positivo?',\n",
              "   'url': 'https://www.tecmundo.com.br/ciencia/239591-fazer-o-autoteste-covid-19-der-resultado-positivo.htm',\n",
              "   'urlToImage': 'https://tm.ibxk.com.br/2022/06/01/01104946415085.jpg'},\n",
              "  {'author': 'Jorge Marin',\n",
              "   'content': 'O Ministério da Ciência, Tecnologia e Inovações (MCTI) criou, na quinta-feira (19), uma Câmara Técnica Temporária chamada CâmaraPox MCTI , instância que promete reunir especialistas para acompanhar o… [+1611 chars]',\n",
              "   'description': 'O Ministério da Ciência, Tecnologia e Inovações (MCTI) criou, na quinta-feira (19), uma Câmara Técnica Temporária – chamada CâmaraPox MCTI –, instância que promete reunir especialistas para acompanhar os impactos científicos com relação à disseminação do víru…',\n",
              "   'publishedAt': '2022-05-23T17:30:01Z',\n",
              "   'source': {'id': None, 'name': 'Tecmundo.com.br'},\n",
              "   'title': 'Governo cria grupo para monitorar varíola de macacos no Brasil',\n",
              "   'url': 'https://www.tecmundo.com.br/ciencia/239084-governo-cria-grupo-monitorar-variola-macacos-brasil.htm',\n",
              "   'urlToImage': 'https://tm.ibxk.com.br/2022/05/23/23141820184361.jpg'},\n",
              "  {'author': 'Bernardo Almeida',\n",
              "   'content': 'Desde o início da pandemia em 2020, foram necessárias várias medidas de contenção para reduzir seu impacto, como o uso de máscaras e distanciamento social. Tais medidas ajudaram no achatamento da cur… [+7542 chars]',\n",
              "   'description': 'Desde o início da pandemia em 2020, foram necessárias várias medidas de contenção para reduzir seu impacto, como o uso de máscaras e distanciamento social. Tais medidas ajudaram no “achatamento da curva”, e a reduzir a disseminação do vírus.\\xa0Essas medidas aca…',\n",
              "   'publishedAt': '2022-05-11T23:00:00Z',\n",
              "   'source': {'id': None, 'name': 'Tecmundo.com.br'},\n",
              "   'title': 'Hepatites de origem desconhecida: quais são os riscos para o Brasil?',\n",
              "   'url': 'https://www.tecmundo.com.br/ciencia/238411-hepatites-origem-desconhecidas-riscos-brasil.htm',\n",
              "   'urlToImage': 'https://tm.ibxk.com.br/2022/05/11/11133207993237.jpg'},\n",
              "  {'author': 'https://www.facebook.com/bbcnews',\n",
              "   'content': '<ul><li>Giulia Granchi</li><li>Da BBC News Brasil em São Paulo</li></ul>\\r\\nCrédito, Getty Images\\r\\nO Brasil enfrenta agora o que especialistas consideram a quarta onda de covid. \\r\\nEm pouco mais de um m… [+6117 chars]',\n",
              "   'description': 'Para virologista, há subnotificação de casos e Brasil navega \"às escuras\" pela quarta onda.',\n",
              "   'publishedAt': '2022-06-02T08:03:22Z',\n",
              "   'source': {'id': None, 'name': 'BBC News'},\n",
              "   'title': '4ª onda de covid: o que explica alta de casos no Brasil',\n",
              "   'url': 'https://www.bbc.com/portuguese/brasil-61668830',\n",
              "   'urlToImage': 'https://ichef.bbci.co.uk/news/1024/branded_portuguese/DF93/production/_121453275_gettyimages-1265082017.jpg'},\n",
              "  {'author': 'João Filho',\n",
              "   'content': 'Foto: Elvira Nascimento/Photo Press/Folhapress\\r\\nEm 48 horas,\\r\\n a Polícia Rodoviária Federal, cujo objetivo é policiar e fiscalizar as rodovias federais, participou diretamente de 27 assassinatos. Só … [+6776 chars]',\n",
              "   'description': 'Seja negligenciando o combate à pandemia, seja exaltando publicamente chacinas, o bolsonarismo desumanizou o país.\\nThe post Genivaldo e a câmara de gás: o projeto de morte que asfixia o Brasil appeared first on The Intercept.',\n",
              "   'publishedAt': '2022-05-28T09:00:09Z',\n",
              "   'source': {'id': None, 'name': 'The Intercept'},\n",
              "   'title': 'Genivaldo e a câmara de gás: o projeto de morte que asfixia o Brasil',\n",
              "   'url': 'https://theintercept.com/2022/05/28/genivaldo-camara-gas-projeto-morte-asfixia-brasil/',\n",
              "   'urlToImage': 'https://theintercept.com/wp-uploads/sites/1/2022/05/bolso-wando-redes.jpg'},\n",
              "  {'author': 'Rafael Moro Martins',\n",
              "   'content': 'A tranquilidade\\r\\n com que militares das Forças Armadas ameaçam as eleições e a eventual sucessão de Jair Bolsonaro são em parte culpa das gerações de políticos brasileiros que exerceram mandatos de 1… [+21584 chars]',\n",
              "   'description': 'O Brasil tem mecanismos legais tímidos para o controle civil das Forças Armadas. E eles pouco são utilizados por governantes e parlamentares.\\nThe post Por que os militares se metem quando e como querem na política – e sem medo de punição appeared first on The…',\n",
              "   'publishedAt': '2022-05-18T10:00:19Z',\n",
              "   'source': {'id': None, 'name': 'The Intercept'},\n",
              "   'title': 'Por que os militares se metem quando e como querem na política – e sem medo de punição',\n",
              "   'url': 'https://theintercept.com/2022/05/18/controle-civil-militares-governo-bolsonaro-politica/',\n",
              "   'urlToImage': 'https://theintercept.com/wp-uploads/sites/1/2022/05/f-a-2-redes.jpg'},\n",
              "  {'author': 'Matías S. Zavia',\n",
              "   'content': 'La Organización Mundial de la Salud ha actualizado su estimación de muertes asociadas con la pandemia de covid-19. El número, derivado del exceso de mortalidad de los países del mundo entre el 1 de e… [+1566 chars]',\n",
              "   'description': 'La Organización Mundial de la Salud ha actualizado su estimación de muertes asociadas con la pandemia de covid-19. El número, derivado del exceso de mortalidad de los países del mundo entre el 1 de enero de 2020 y el 31 de diciembre de 2021, se sitúa entre 13…',\n",
              "   'publishedAt': '2022-05-06T10:52:00Z',\n",
              "   'source': {'id': None, 'name': 'Gizmodo.com'},\n",
              "   'title': 'La OMS estima en 15 millones las muertes derivadas de la pandemia',\n",
              "   'url': 'https://es.gizmodo.com/la-oms-estima-en-15-millones-las-muertes-derivadas-de-l-1848890112',\n",
              "   'urlToImage': 'https://i.kinja-img.com/gawker-media/image/upload/c_fill,f_auto,fl_progressive,g_center,h_675,pg_1,q_80,w_1200/3533916d90dbb3ff0dc0f1f31960f3ff.jpg'},\n",
              "  {'author': 'Beatriz Semprini',\n",
              "   'content': 'A campanha de vacinação contra a Covid-19 atingiu nesta quinta-feira , 5, a marca de 78,22% da população com o esquema inicial, de duas doses ou dose única, completo. O Ministério da Saúde, as secret… [+1180 chars]',\n",
              "   'description': 'Piauí (93,4%) e São Paulo (91,4%) são os estados que continuam com o maior percentual de pessoas vacinadas com a primeira dose',\n",
              "   'publishedAt': '2022-05-05T22:31:14Z',\n",
              "   'source': {'id': None, 'name': 'Abril.com.br'},\n",
              "   'title': 'Brasil tem 78,2% da população vacinada contra a Covid-19',\n",
              "   'url': 'https://veja.abril.com.br/saude/brasil-tem-782-da-populacao-vacinada-contra-a-covid-19/',\n",
              "   'urlToImage': 'https://veja.abril.com.br/wp-content/uploads/2021/07/Vacinacao-Bahia.jpeg?quality=70&strip=info&w=680&h=453&crop=1'},\n",
              "  {'author': 'Simone Blanes',\n",
              "   'content': 'A campanha de vacinação contra a Covid-19 atingiu 165.345.100 pessoas imunizadas com a segunda dose e única, correspondente a 78,68% da população. Esses dados foram divulgados pelo Ministério da Saúd… [+881 chars]',\n",
              "   'description': 'Mais de 165 milhões de doses foram aplicadas nos brasileiros que completaram seu esquema vacinal com duas doses ou dose única',\n",
              "   'publishedAt': '2022-05-18T22:54:33Z',\n",
              "   'source': {'id': None, 'name': 'Abril.com.br'},\n",
              "   'title': 'Covid 19: Brasil tem quase 80% da população vacinada',\n",
              "   'url': 'https://veja.abril.com.br/saude/covid-19-brasil-tem-quase-80-da-populacao-vacinada/',\n",
              "   'urlToImage': 'https://veja.abril.com.br/wp-content/uploads/2022/04/51313427561_89de14c680_k.jpg?quality=70&strip=info&w=680&h=453&crop=1'},\n",
              "  {'author': 'https://www.facebook.com/bbcnews',\n",
              "   'content': '<ul><li>Giulia Granchi</li><li>Da BBC News Brasil em São Paulo</li></ul>\\r\\n13 maio 2022, 12:40 -03\\r\\nCrédito, Katerina Kon/Getty Images\\r\\nO Brasil é o próximo país a conduzir um estudo de abrangência na… [+4913 chars]',\n",
              "   'description': 'Iniciativa financiada pelo Reino Unido vai analisar mais de 30 mil testes de covid-19 ao longo de 6 meses',\n",
              "   'publishedAt': '2022-05-13T16:04:21Z',\n",
              "   'source': {'id': None, 'name': 'BBC News'},\n",
              "   'title': 'Pesquisa inédita no Brasil busca novas variantes da covid-19',\n",
              "   'url': 'https://www.bbc.com/portuguese/brasil-61441921',\n",
              "   'urlToImage': 'https://ichef.bbci.co.uk/news/1024/branded_portuguese/BD4E/production/_124726484_gettyimages-1265278343.jpg'},\n",
              "  {'author': 'Beatriz Semprini',\n",
              "   'content': 'Nesta quarta-feira 11, o Ministério da Saúde, as secretarias estaduais de saúde e o site Coronavírus Brasil atualizaram os dados da vacinação da covid 19 no país. Ao todo, 164.720.761 pessoas receber… [+924 chars]',\n",
              "   'description': 'Campanha de vacinação imunizou 434.644.746 pessoas no Brasil',\n",
              "   'publishedAt': '2022-05-11T22:06:54Z',\n",
              "   'source': {'id': None, 'name': 'Abril.com.br'},\n",
              "   'title': 'Covid-19: Mais de 90 milhões de brasileiros receberam a dose de reforço',\n",
              "   'url': 'https://veja.abril.com.br/saude/covid-19-mais-de-90-milhoes-de-brasileiros-receberam-a-dose-de-reforco/',\n",
              "   'urlToImage': 'https://veja.abril.com.br/wp-content/uploads/2022/04/51161729523_25dee301df_k.jpg?quality=70&strip=info&w=680&h=453&crop=1'},\n",
              "  {'author': 'Beatriz Semprini',\n",
              "   'content': 'O Ministério da Saúde atualizou os números da pandemia no Brasil, registrando 20.143 de testes positivos e 198 mortes por Covid-19 nas últimas 24 horas.\\xa0No acumulado, o levantamento assinalou 30.594.… [+1259 chars]',\n",
              "   'description': 'Brasil registra 30.594.388 infectados e 664.390 óbitos desde o início da pandemia em 2020',\n",
              "   'publishedAt': '2022-05-11T01:27:44Z',\n",
              "   'source': {'id': None, 'name': 'Abril.com.br'},\n",
              "   'title': 'Covid-19: Média móvel de mortes atinge 99,4 em relação há duas semanas',\n",
              "   'url': 'https://veja.abril.com.br/saude/covid-19-media-movel-de-mortes-atinge-994-em-relacao-ha-duas-semanas/',\n",
              "   'urlToImage': 'https://veja.abril.com.br/wp-content/uploads/2022/04/51108388297_01816f5e5f_k.jpg?quality=70&strip=info&w=680&h=453&crop=1'},\n",
              "  {'author': 'Beatriz Semprini',\n",
              "   'content': 'O boletim epidemiológico publicado nesta quinta-feira, 5, pelo Ministério da Saúde registrou 30.524.183 novos casos e 663.896 mortes por Covid-19 desde março de 2020. Nas últimas 24 horas, foram conf… [+1162 chars]',\n",
              "   'description': 'Brasil registra 21.682 infectados e 137 mortes nas últimas 24 horas',\n",
              "   'publishedAt': '2022-05-05T22:48:01Z',\n",
              "   'source': {'id': None, 'name': 'Abril.com.br'},\n",
              "   'title': 'Média móvel de novos casos de Covid-19 tem alta de 8,96%',\n",
              "   'url': 'https://veja.abril.com.br/saude/media-movel-de-novos-casos-de-covid-19-tem-alta-de-896/',\n",
              "   'urlToImage': 'https://veja.abril.com.br/wp-content/uploads/2021/09/000_94T2XU.jpg.jpg?quality=70&strip=info&w=680&h=453&crop=1'},\n",
              "  {'author': 'Beatriz Semprini',\n",
              "   'content': 'O Ministério da Saúde atualizou os números da pandemia no Brasil, registrando 20.143 de testes positivos e 198 mortes por Covid-19 nas últimas 24 horas.\\xa0No acumulado, o levantamento assinalou 30.594.… [+1250 chars]',\n",
              "   'description': 'Brasil registra 30.594.388 infectados e 664.390 óbitos desde o início da pandemia em 2020',\n",
              "   'publishedAt': '2022-05-11T01:27:44Z',\n",
              "   'source': {'id': None, 'name': 'Abril.com.br'},\n",
              "   'title': 'Covid-19: Média móvel de mortes fica estável e atinge 99,4',\n",
              "   'url': 'https://veja.abril.com.br/saude/covid-19-media-movel-de-mortes-fica-estavel-e-atinge-994/',\n",
              "   'urlToImage': 'https://veja.abril.com.br/wp-content/uploads/2022/04/51108388297_01816f5e5f_k.jpg?quality=70&strip=info&w=680&h=453&crop=1'},\n",
              "  {'author': 'Alejandro Cañas',\n",
              "   'content': 'El año pasado, en plena pandemia por coronavirus y con el objetivo de facilitar los viajes entre los países miembros, la Unión Europea anunció la creación del pasaporte COVID o certificado de vacunac… [+3173 chars]',\n",
              "   'description': 'El documento caduca a los nueve meses, una vez que ha sido administrada la última dosis de la vacuna. Estados Unidos y Brasil aún lo piden.',\n",
              "   'publishedAt': '2022-05-10T16:18:37Z',\n",
              "   'source': {'id': None, 'name': 'As.com'},\n",
              "   'title': '¿Cuándo caduca el pasaporte COVID, cuánto dura el certificado, validez y qué países lo piden?',\n",
              "   'url': 'https://as.com/diarioas/2022/05/10/actualidad/1652199293_746423.html',\n",
              "   'urlToImage': 'https://as01.epimg.net/diarioas/imagenes/2022/05/10/actualidad/1652199293_746423_1652199436_noticia_normal.jpg'}],\n",
              " 'status': 'ok',\n",
              " 'totalResults': 3900}"
            ]
          },
          "metadata": {},
          "execution_count": 18
        }
      ]
    },
    {
      "cell_type": "code",
      "source": [
        "print('obrigado')"
      ],
      "metadata": {
        "colab": {
          "base_uri": "https://localhost:8080/"
        },
        "id": "qVL8DeCQtT86",
        "outputId": "5bd3075e-8db2-45a0-8d3c-953daa0b6130"
      },
      "execution_count": 19,
      "outputs": [
        {
          "output_type": "stream",
          "name": "stdout",
          "text": [
            "obrigado\n"
          ]
        }
      ]
    }
  ]
}