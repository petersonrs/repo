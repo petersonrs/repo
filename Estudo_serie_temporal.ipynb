{
  "nbformat": 4,
  "nbformat_minor": 0,
  "metadata": {
    "colab": {
      "name": "Estudo serie temporal.ipynb",
      "provenance": [],
      "collapsed_sections": [],
      "toc_visible": true,
      "authorship_tag": "ABX9TyP/WJyB5UNJMCda1q18kkWD",
      "include_colab_link": true
    },
    "kernelspec": {
      "name": "python3",
      "display_name": "Python 3"
    },
    "language_info": {
      "name": "python"
    }
  },
  "cells": [
    {
      "cell_type": "markdown",
      "metadata": {
        "id": "view-in-github",
        "colab_type": "text"
      },
      "source": [
        "<a href=\"https://colab.research.google.com/github/petersonrs/repo/blob/master/Estudo_serie_temporal.ipynb\" target=\"_parent\"><img src=\"https://colab.research.google.com/assets/colab-badge.svg\" alt=\"Open In Colab\"/></a>"
      ]
    },
    {
      "cell_type": "markdown",
      "metadata": {
        "id": "FPz5YnU48-sH"
      },
      "source": [
        "# Data e Hora"
      ]
    },
    {
      "cell_type": "code",
      "metadata": {
        "id": "ud8WDzSN9g2c"
      },
      "source": [
        "from datetime import datetime, time, tzinfo"
      ],
      "execution_count": 46,
      "outputs": []
    },
    {
      "cell_type": "code",
      "metadata": {
        "id": "p4ec_Y469iQk"
      },
      "source": [
        "now = datetime.now()"
      ],
      "execution_count": 2,
      "outputs": []
    },
    {
      "cell_type": "code",
      "metadata": {
        "colab": {
          "base_uri": "https://localhost:8080/"
        },
        "id": "hXHgIgSZ9wSq",
        "outputId": "7472c320-e6f4-4e48-e6e4-66b44efe6aad"
      },
      "source": [
        "now"
      ],
      "execution_count": 3,
      "outputs": [
        {
          "output_type": "execute_result",
          "data": {
            "text/plain": [
              "datetime.datetime(2021, 11, 14, 22, 50, 16, 420067)"
            ]
          },
          "metadata": {},
          "execution_count": 3
        }
      ]
    },
    {
      "cell_type": "code",
      "metadata": {
        "colab": {
          "base_uri": "https://localhost:8080/"
        },
        "id": "X4bpTEpZpoeu",
        "outputId": "6ccec4f4-0048-4403-fcf5-2ae33be2c13c"
      },
      "source": [
        "#exibindo dia\n",
        "now.day"
      ],
      "execution_count": 6,
      "outputs": [
        {
          "output_type": "execute_result",
          "data": {
            "text/plain": [
              "14"
            ]
          },
          "metadata": {},
          "execution_count": 6
        }
      ]
    },
    {
      "cell_type": "code",
      "metadata": {
        "colab": {
          "base_uri": "https://localhost:8080/"
        },
        "id": "Vckg2eVMpv5_",
        "outputId": "fd5a7528-2ab4-4bc2-a40e-89df87bcbb37"
      },
      "source": [
        "#exibindo mês\n",
        "now.month"
      ],
      "execution_count": 7,
      "outputs": [
        {
          "output_type": "execute_result",
          "data": {
            "text/plain": [
              "11"
            ]
          },
          "metadata": {},
          "execution_count": 7
        }
      ]
    },
    {
      "cell_type": "code",
      "metadata": {
        "colab": {
          "base_uri": "https://localhost:8080/"
        },
        "id": "vOJSzvfNpviN",
        "outputId": "f1a8d3ce-665e-43ee-e63a-c994f1b02af4"
      },
      "source": [
        "#exibindo ano\n",
        "now.year"
      ],
      "execution_count": 8,
      "outputs": [
        {
          "output_type": "execute_result",
          "data": {
            "text/plain": [
              "2021"
            ]
          },
          "metadata": {},
          "execution_count": 8
        }
      ]
    },
    {
      "cell_type": "markdown",
      "metadata": {
        "id": "vRUB8y4U_pnI"
      },
      "source": [
        "## conversao string e datetime"
      ]
    },
    {
      "cell_type": "code",
      "metadata": {
        "id": "VfXigMtO_x-N"
      },
      "source": [
        "anomesdia = datetime(2021,11,14)"
      ],
      "execution_count": 18,
      "outputs": []
    },
    {
      "cell_type": "code",
      "metadata": {
        "colab": {
          "base_uri": "https://localhost:8080/"
        },
        "id": "o4P1ox7G_9Aj",
        "outputId": "03305b47-6cfe-4fd7-97ff-ebc1abbc7ff4"
      },
      "source": [
        "anomesdia"
      ],
      "execution_count": 19,
      "outputs": [
        {
          "output_type": "execute_result",
          "data": {
            "text/plain": [
              "datetime.datetime(2021, 11, 14, 0, 0)"
            ]
          },
          "metadata": {},
          "execution_count": 19
        }
      ]
    },
    {
      "cell_type": "code",
      "metadata": {
        "colab": {
          "base_uri": "https://localhost:8080/",
          "height": 35
        },
        "id": "KFPvQZQT__XV",
        "outputId": "b88b41e9-fcbb-4e5a-ac94-c5473a9294dd"
      },
      "source": [
        "str(anomesdia)"
      ],
      "execution_count": 20,
      "outputs": [
        {
          "output_type": "execute_result",
          "data": {
            "application/vnd.google.colaboratory.intrinsic+json": {
              "type": "string"
            },
            "text/plain": [
              "'2021-11-14 00:00:00'"
            ]
          },
          "metadata": {},
          "execution_count": 20
        }
      ]
    },
    {
      "cell_type": "code",
      "metadata": {
        "colab": {
          "base_uri": "https://localhost:8080/",
          "height": 35
        },
        "id": "U5ZDY0S9BN-F",
        "outputId": "edb985d5-c8aa-41a9-b862-4e7273bc994c"
      },
      "source": [
        "anomesdia.strftime('%d-%m-%Y')"
      ],
      "execution_count": 24,
      "outputs": [
        {
          "output_type": "execute_result",
          "data": {
            "application/vnd.google.colaboratory.intrinsic+json": {
              "type": "string"
            },
            "text/plain": [
              "'14-11-2021'"
            ]
          },
          "metadata": {},
          "execution_count": 24
        }
      ]
    },
    {
      "cell_type": "markdown",
      "metadata": {
        "id": "Ki5YK8ubqn0j"
      },
      "source": [
        "##Tabela de formatos\n",
        "*   %Y Ano com quatro dígitos\n",
        "*   %y Ano com dois dígitos\n",
        "*   %m Mês com dois dígitos (01,12)\n",
        "*   %d Dia com dois dígitos (01,31)\n",
        "*   %H Hora do relógio com 24 horas (00,23)\n",
        "*   %I Hora do relógio com 12 horas (01,12)\n",
        "*   %M Minuto com dois dígitos (00,59)\n",
        "*   %S Segundos (00, 61)\n",
        "*   %w Dias da semana como inteiro (0,6 - onde 0 = Domingo)\n",
        "*   %U Número da semana do ano (00,53) onde Domingo é considerado primeiro dia da semana\n",
        "*   %W Número da semana do ano (00,53) onde Segunda-feira é considerado primeiro dia da semana\n",
        "*   %F Atalho para %Y-%m-%d\n",
        "*   %D Atalho para %m/%d/%y"
      ]
    },
    {
      "cell_type": "code",
      "metadata": {
        "colab": {
          "base_uri": "https://localhost:8080/",
          "height": 35
        },
        "id": "5aQ_kr8eqrwN",
        "outputId": "090bdd44-aeac-458b-f688-b22c226bddad"
      },
      "source": [
        "now.strftime('%Y')"
      ],
      "execution_count": 10,
      "outputs": [
        {
          "output_type": "execute_result",
          "data": {
            "application/vnd.google.colaboratory.intrinsic+json": {
              "type": "string"
            },
            "text/plain": [
              "'2021'"
            ]
          },
          "metadata": {},
          "execution_count": 10
        }
      ]
    },
    {
      "cell_type": "code",
      "metadata": {
        "colab": {
          "base_uri": "https://localhost:8080/",
          "height": 35
        },
        "id": "V50P7rRQsnaT",
        "outputId": "ccf386d0-db47-4dcb-8271-238627370ed5"
      },
      "source": [
        "now.strftime('%y')"
      ],
      "execution_count": 23,
      "outputs": [
        {
          "output_type": "execute_result",
          "data": {
            "application/vnd.google.colaboratory.intrinsic+json": {
              "type": "string"
            },
            "text/plain": [
              "'21'"
            ]
          },
          "metadata": {},
          "execution_count": 23
        }
      ]
    },
    {
      "cell_type": "code",
      "metadata": {
        "colab": {
          "base_uri": "https://localhost:8080/",
          "height": 35
        },
        "id": "t2hy9MSosyzq",
        "outputId": "0be6045c-4dd2-42cc-b29d-d1ad07ff3a15"
      },
      "source": [
        "now.strftime('%m')"
      ],
      "execution_count": 24,
      "outputs": [
        {
          "output_type": "execute_result",
          "data": {
            "application/vnd.google.colaboratory.intrinsic+json": {
              "type": "string"
            },
            "text/plain": [
              "'11'"
            ]
          },
          "metadata": {},
          "execution_count": 24
        }
      ]
    },
    {
      "cell_type": "code",
      "metadata": {
        "colab": {
          "base_uri": "https://localhost:8080/",
          "height": 35
        },
        "id": "V08JhtdkszSJ",
        "outputId": "3168afc9-4c77-4613-c754-4d7e0726679d"
      },
      "source": [
        "now.strftime('%d')"
      ],
      "execution_count": 27,
      "outputs": [
        {
          "output_type": "execute_result",
          "data": {
            "application/vnd.google.colaboratory.intrinsic+json": {
              "type": "string"
            },
            "text/plain": [
              "'14'"
            ]
          },
          "metadata": {},
          "execution_count": 27
        }
      ]
    },
    {
      "cell_type": "code",
      "metadata": {
        "colab": {
          "base_uri": "https://localhost:8080/",
          "height": 35
        },
        "id": "fr9W396Zszpa",
        "outputId": "d450f73c-7bdd-43c7-beae-f6f37f0ab8f5"
      },
      "source": [
        "now.strftime('%H')"
      ],
      "execution_count": 28,
      "outputs": [
        {
          "output_type": "execute_result",
          "data": {
            "application/vnd.google.colaboratory.intrinsic+json": {
              "type": "string"
            },
            "text/plain": [
              "'22'"
            ]
          },
          "metadata": {},
          "execution_count": 28
        }
      ]
    },
    {
      "cell_type": "code",
      "metadata": {
        "colab": {
          "base_uri": "https://localhost:8080/",
          "height": 35
        },
        "id": "1kinY4OKsz_L",
        "outputId": "304eaebc-3c6f-4b75-cadf-aa8d3e058753"
      },
      "source": [
        "now.strftime('%I')"
      ],
      "execution_count": 29,
      "outputs": [
        {
          "output_type": "execute_result",
          "data": {
            "application/vnd.google.colaboratory.intrinsic+json": {
              "type": "string"
            },
            "text/plain": [
              "'10'"
            ]
          },
          "metadata": {},
          "execution_count": 29
        }
      ]
    },
    {
      "cell_type": "code",
      "metadata": {
        "colab": {
          "base_uri": "https://localhost:8080/",
          "height": 35
        },
        "id": "EpbVn5Ibs0Wf",
        "outputId": "8e86f5b8-69d1-4b32-df27-b099c7d73f7f"
      },
      "source": [
        "now.strftime('%M')"
      ],
      "execution_count": 30,
      "outputs": [
        {
          "output_type": "execute_result",
          "data": {
            "application/vnd.google.colaboratory.intrinsic+json": {
              "type": "string"
            },
            "text/plain": [
              "'50'"
            ]
          },
          "metadata": {},
          "execution_count": 30
        }
      ]
    },
    {
      "cell_type": "code",
      "metadata": {
        "colab": {
          "base_uri": "https://localhost:8080/",
          "height": 35
        },
        "id": "kG7IFDbPs0oF",
        "outputId": "d4be2382-1e43-4859-d67b-8a348651ed6f"
      },
      "source": [
        "now.strftime('%S')"
      ],
      "execution_count": 31,
      "outputs": [
        {
          "output_type": "execute_result",
          "data": {
            "application/vnd.google.colaboratory.intrinsic+json": {
              "type": "string"
            },
            "text/plain": [
              "'16'"
            ]
          },
          "metadata": {},
          "execution_count": 31
        }
      ]
    },
    {
      "cell_type": "code",
      "metadata": {
        "colab": {
          "base_uri": "https://localhost:8080/",
          "height": 35
        },
        "id": "HX0Z5IIts016",
        "outputId": "d80f5c94-0d69-4ac0-fca7-9ba77aede49a"
      },
      "source": [
        "now.strftime('%w')"
      ],
      "execution_count": 34,
      "outputs": [
        {
          "output_type": "execute_result",
          "data": {
            "application/vnd.google.colaboratory.intrinsic+json": {
              "type": "string"
            },
            "text/plain": [
              "'0'"
            ]
          },
          "metadata": {},
          "execution_count": 34
        }
      ]
    },
    {
      "cell_type": "code",
      "metadata": {
        "colab": {
          "base_uri": "https://localhost:8080/",
          "height": 35
        },
        "id": "75Jr33aNs1Em",
        "outputId": "d22273df-7f0f-4fd6-860b-af61617e4e24"
      },
      "source": [
        "now.strftime('%U')"
      ],
      "execution_count": 33,
      "outputs": [
        {
          "output_type": "execute_result",
          "data": {
            "application/vnd.google.colaboratory.intrinsic+json": {
              "type": "string"
            },
            "text/plain": [
              "'46'"
            ]
          },
          "metadata": {},
          "execution_count": 33
        }
      ]
    },
    {
      "cell_type": "code",
      "metadata": {
        "colab": {
          "base_uri": "https://localhost:8080/",
          "height": 35
        },
        "id": "lIyJetu_s1UW",
        "outputId": "4f856c14-313e-406c-ad74-0a27ac5e236a"
      },
      "source": [
        "now.strftime('%W')"
      ],
      "execution_count": 35,
      "outputs": [
        {
          "output_type": "execute_result",
          "data": {
            "application/vnd.google.colaboratory.intrinsic+json": {
              "type": "string"
            },
            "text/plain": [
              "'45'"
            ]
          },
          "metadata": {},
          "execution_count": 35
        }
      ]
    },
    {
      "cell_type": "code",
      "metadata": {
        "colab": {
          "base_uri": "https://localhost:8080/",
          "height": 35
        },
        "id": "7MXyykefs14B",
        "outputId": "1cb67e92-238a-4b66-b25a-823e938de757"
      },
      "source": [
        "now.strftime('%F')"
      ],
      "execution_count": 53,
      "outputs": [
        {
          "output_type": "execute_result",
          "data": {
            "application/vnd.google.colaboratory.intrinsic+json": {
              "type": "string"
            },
            "text/plain": [
              "'2021-11-14'"
            ]
          },
          "metadata": {},
          "execution_count": 53
        }
      ]
    }
  ]
}