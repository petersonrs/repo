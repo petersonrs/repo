{
  "nbformat": 4,
  "nbformat_minor": 0,
  "metadata": {
    "colab": {
      "name": "analise bolsa com yahoo-finance.ipynb",
      "provenance": [],
      "toc_visible": true,
      "mount_file_id": "1rgQoy9ynaxBjcoo9rGs2X-Idh9Jr5wSk",
      "authorship_tag": "ABX9TyMRH8BMZr9JhHHSKR+rFi9I",
      "include_colab_link": true
    },
    "kernelspec": {
      "name": "python3",
      "display_name": "Python 3"
    },
    "language_info": {
      "name": "python"
    }
  },
  "cells": [
    {
      "cell_type": "markdown",
      "metadata": {
        "id": "view-in-github",
        "colab_type": "text"
      },
      "source": [
        "<a href=\"https://colab.research.google.com/github/petersonrs/repo/blob/master/analise_bolsa_com_yahoo_finance.ipynb\" target=\"_parent\"><img src=\"https://colab.research.google.com/assets/colab-badge.svg\" alt=\"Open In Colab\"/></a>"
      ]
    },
    {
      "cell_type": "markdown",
      "metadata": {
        "id": "1HWzFwlaAIph"
      },
      "source": [
        "Buscando dados históricos de ações com Pandas\n",
        "Ref. https://www.learndatasci.com/tutorials/python-finance-part-yahoo-finance-api-pandas-matplotlib/"
      ]
    },
    {
      "cell_type": "code",
      "metadata": {
        "id": "e7SSpYVu_3si"
      },
      "source": [
        "from pandas_datareader import data\n",
        "import matplotlib.pyplot as plt\n",
        "import pandas as pd"
      ],
      "execution_count": 1,
      "outputs": []
    },
    {
      "cell_type": "code",
      "metadata": {
        "id": "1satNYIjAZJd"
      },
      "source": [
        ""
      ],
      "execution_count": null,
      "outputs": []
    },
    {
      "cell_type": "code",
      "metadata": {
        "id": "ezqQx7IXBpKo"
      },
      "source": [
        "#vamos buscar os dados de BBSE3, sim, eu tenho bbse3\n",
        "#no link acima, ao tentar seguir a forma utilizada, um erro é apresentado, então \n",
        "#mudei a origem dos dados para o yahoo\n",
        "bbse = data.DataReader('BBSE3.SA', 'yahoo')"
      ],
      "execution_count": 2,
      "outputs": []
    },
    {
      "cell_type": "markdown",
      "metadata": {
        "id": "gYA07FbKHQNj"
      },
      "source": [
        "Exibindo os tipos de dados retornados"
      ]
    },
    {
      "cell_type": "code",
      "metadata": {
        "id": "7_hfkXT3CVhk"
      },
      "source": [
        "bbse.info()"
      ],
      "execution_count": null,
      "outputs": []
    },
    {
      "cell_type": "code",
      "metadata": {
        "id": "ScasSe68GuSr"
      },
      "source": [
        "bbse.describe()"
      ],
      "execution_count": null,
      "outputs": []
    },
    {
      "cell_type": "code",
      "metadata": {
        "id": "zHYWiFyqHIlr"
      },
      "source": [
        ""
      ],
      "execution_count": null,
      "outputs": []
    },
    {
      "cell_type": "markdown",
      "metadata": {
        "id": "5hil3F9BAi2e"
      },
      "source": [
        "#Instalando a biblioteca para leitura das planilhas do google\n",
        "Fonte de consulta: https://colab.research.google.com/notebooks/io.ipynb\n",
        "e https://medium.com/@alisson.rlima/manipula%C3%A7%C3%A3o-de-planilhas-com-google-colab-google-sheets-e-pandas-6565a5a89826\n"
      ]
    },
    {
      "cell_type": "code",
      "metadata": {
        "colab": {
          "base_uri": "https://localhost:8080/"
        },
        "id": "W4ipIKfOAv3T",
        "outputId": "b64cc36c-1b20-41aa-8cdd-695e5bc707da"
      },
      "source": [
        "!pip install gspread"
      ],
      "execution_count": 6,
      "outputs": [
        {
          "output_type": "stream",
          "text": [
            "Requirement already satisfied: gspread in /usr/local/lib/python3.7/dist-packages (3.0.1)\n",
            "Requirement already satisfied: requests>=2.2.1 in /usr/local/lib/python3.7/dist-packages (from gspread) (2.23.0)\n",
            "Requirement already satisfied: urllib3!=1.25.0,!=1.25.1,<1.26,>=1.21.1 in /usr/local/lib/python3.7/dist-packages (from requests>=2.2.1->gspread) (1.24.3)\n",
            "Requirement already satisfied: certifi>=2017.4.17 in /usr/local/lib/python3.7/dist-packages (from requests>=2.2.1->gspread) (2020.12.5)\n",
            "Requirement already satisfied: idna<3,>=2.5 in /usr/local/lib/python3.7/dist-packages (from requests>=2.2.1->gspread) (2.10)\n",
            "Requirement already satisfied: chardet<4,>=3.0.2 in /usr/local/lib/python3.7/dist-packages (from requests>=2.2.1->gspread) (3.0.4)\n"
          ],
          "name": "stdout"
        }
      ]
    },
    {
      "cell_type": "code",
      "metadata": {
        "id": "GNCuH9O1A0Pc"
      },
      "source": [
        "from google.colab import auth\n",
        "\n",
        "auth.authenticate_user()\n",
        "\n",
        "import gspread\n",
        "from oauth2client.client import GoogleCredentials\n",
        "\n",
        "gc = gspread.authorize(GoogleCredentials.get_application_default())"
      ],
      "execution_count": 20,
      "outputs": []
    },
    {
      "cell_type": "markdown",
      "metadata": {
        "id": "xCxvzwXAIoMV"
      },
      "source": [
        "Abrindo a planilha com os nomes das empresas"
      ]
    },
    {
      "cell_type": "code",
      "metadata": {
        "id": "zRZSuyOcB0e3"
      },
      "source": [
        "empresasb3 = gc.open('empresasb3')"
      ],
      "execution_count": 29,
      "outputs": []
    },
    {
      "cell_type": "markdown",
      "metadata": {
        "id": "6Qh50Dp9IweJ"
      },
      "source": [
        "pegando a aba com os dados"
      ]
    },
    {
      "cell_type": "code",
      "metadata": {
        "id": "c4TQysWzDWZU"
      },
      "source": [
        "dados = empresasb3.sheet1"
      ],
      "execution_count": 31,
      "outputs": []
    },
    {
      "cell_type": "markdown",
      "metadata": {
        "id": "VXEJPq61JWrl"
      },
      "source": [
        "jogando para o dataframe os nomes das empresas, que foram lidas da planilha do google"
      ]
    },
    {
      "cell_type": "code",
      "metadata": {
        "id": "EhuBwjSKH6UN"
      },
      "source": [
        "df_dados = pd.DataFrame(dados.get_all_records())"
      ],
      "execution_count": 33,
      "outputs": []
    },
    {
      "cell_type": "code",
      "metadata": {
        "colab": {
          "base_uri": "https://localhost:8080/",
          "height": 204
        },
        "id": "cQkZIk7QJJu1",
        "outputId": "dff93f6e-27e3-4b66-d21a-c49b4a8cdd2c"
      },
      "source": [
        "df_dados.head()"
      ],
      "execution_count": 34,
      "outputs": [
        {
          "output_type": "execute_result",
          "data": {
            "text/html": [
              "<div>\n",
              "<style scoped>\n",
              "    .dataframe tbody tr th:only-of-type {\n",
              "        vertical-align: middle;\n",
              "    }\n",
              "\n",
              "    .dataframe tbody tr th {\n",
              "        vertical-align: top;\n",
              "    }\n",
              "\n",
              "    .dataframe thead th {\n",
              "        text-align: right;\n",
              "    }\n",
              "</style>\n",
              "<table border=\"1\" class=\"dataframe\">\n",
              "  <thead>\n",
              "    <tr style=\"text-align: right;\">\n",
              "      <th></th>\n",
              "      <th>Papel</th>\n",
              "      <th>Nome Comercial</th>\n",
              "      <th>Razão Social</th>\n",
              "    </tr>\n",
              "  </thead>\n",
              "  <tbody>\n",
              "    <tr>\n",
              "      <th>0</th>\n",
              "      <td>AALR3</td>\n",
              "      <td>ALLIAR</td>\n",
              "      <td>CENTRO DE IMAGEM DIAGNOSTICOS S.A.</td>\n",
              "    </tr>\n",
              "    <tr>\n",
              "      <th>1</th>\n",
              "      <td>ABCB3</td>\n",
              "      <td>ABC Brasil</td>\n",
              "      <td>BANCO ABC BRASIL S/A</td>\n",
              "    </tr>\n",
              "    <tr>\n",
              "      <th>2</th>\n",
              "      <td>ABCB4</td>\n",
              "      <td>ABC Brasil</td>\n",
              "      <td>BANCO ABC BRASIL S/A</td>\n",
              "    </tr>\n",
              "    <tr>\n",
              "      <th>3</th>\n",
              "      <td>ABEV3</td>\n",
              "      <td>AMBEV S/A</td>\n",
              "      <td>AMBEV S.A.</td>\n",
              "    </tr>\n",
              "    <tr>\n",
              "      <th>4</th>\n",
              "      <td>ABRE3</td>\n",
              "      <td>SOMOS EDUCA</td>\n",
              "      <td>SOMOS EDUCAÇÃO S.A.</td>\n",
              "    </tr>\n",
              "  </tbody>\n",
              "</table>\n",
              "</div>"
            ],
            "text/plain": [
              "   Papel Nome Comercial                        Razão Social\n",
              "0  AALR3         ALLIAR  CENTRO DE IMAGEM DIAGNOSTICOS S.A.\n",
              "1  ABCB3     ABC Brasil                BANCO ABC BRASIL S/A\n",
              "2  ABCB4     ABC Brasil                BANCO ABC BRASIL S/A\n",
              "3  ABEV3      AMBEV S/A                          AMBEV S.A.\n",
              "4  ABRE3    SOMOS EDUCA                 SOMOS EDUCAÇÃO S.A."
            ]
          },
          "metadata": {
            "tags": []
          },
          "execution_count": 34
        }
      ]
    },
    {
      "cell_type": "code",
      "metadata": {
        "id": "xmg9T1NSJlHD"
      },
      "source": [
        ""
      ],
      "execution_count": null,
      "outputs": []
    }
  ]
}